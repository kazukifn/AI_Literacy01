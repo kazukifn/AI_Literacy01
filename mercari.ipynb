{
  "nbformat": 4,
  "nbformat_minor": 0,
  "metadata": {
    "colab": {
      "name": "mercari.ipynb",
      "provenance": []
    },
    "kernelspec": {
      "name": "python3",
      "display_name": "Python 3"
    }
  },
  "cells": [
    {
      "cell_type": "markdown",
      "metadata": {
        "id": "-nchfqDmJlrA",
        "colab_type": "text"
      },
      "source": [
        "Kaggleのメルカリ価格予想チャレンジのデータを使って\n",
        "\n",
        "https://www.kaggle.com/\n",
        "\n",
        "https://www.kaggle.com/c/mercari-price-suggestion-challenge/data\n",
        "\n",
        "適性な販売価格を予測していきます。"
      ]
    },
    {
      "cell_type": "code",
      "metadata": {
        "id": "_JQkiQ53ab_R",
        "colab_type": "code",
        "colab": {}
      },
      "source": [
        "#インポート\n",
        "import pandas as pd\n",
        "from sklearn.ensemble import RandomForestRegressor, RandomForestClassifier\n",
        "from IPython.display import display\n",
        "from sklearn import metrics\n",
        "from sklearn.model_selection import train_test_split\n",
        "pd.set_option('display.float_format', lambda x:'%.5f' % x)\n",
        "import numpy as np"
      ],
      "execution_count": 1,
      "outputs": []
    },
    {
      "cell_type": "code",
      "metadata": {
        "id": "7cB_6dFShlh8",
        "colab_type": "code",
        "colab": {}
      },
      "source": [
        "#Googleドライブからの読み込みそしてtsvファイルからPandas DataFrameへ読み込み\n",
        "def data_set():\n",
        "  types_dict_train = {'train_id':'int64', 'item_condition_id':'int8', 'price':'float64', 'shipping':'int8'}\n",
        "  types_dict_test = {'test_id':'int64', 'item_condition_id':'int8', 'shipping':'int8'}\n",
        "  train = pd.read_csv(\"/content/drive/My Drive/基礎集計入門/mercari/train.tsv\", delimiter='\\t', low_memory=True, dtype=types_dict_train)\n",
        "  test = pd.read_csv(\"/content/drive/My Drive/基礎集計入門/mercari/test.tsv\", delimiter='\\t', low_memory=True, dtype=types_dict_test)\n"
      ],
      "execution_count": 8,
      "outputs": []
    },
    {
      "cell_type": "markdown",
      "metadata": {
        "id": "5m0HVkpH7-Et",
        "colab_type": "text"
      },
      "source": [
        "trainとtestのデータフレームの冒頭5行を表示させる"
      ]
    },
    {
      "cell_type": "code",
      "metadata": {
        "id": "39GFyWAB2-sL",
        "colab_type": "code",
        "colab": {
          "base_uri": "https://localhost:8080/",
          "height": 289
        },
        "outputId": "0bbdcfb3-fb42-4dce-e9a8-acc6a8ab3031"
      },
      "source": [
        "train.head()"
      ],
      "execution_count": 11,
      "outputs": [
        {
          "output_type": "execute_result",
          "data": {
            "text/html": [
              "<div>\n",
              "<style scoped>\n",
              "    .dataframe tbody tr th:only-of-type {\n",
              "        vertical-align: middle;\n",
              "    }\n",
              "\n",
              "    .dataframe tbody tr th {\n",
              "        vertical-align: top;\n",
              "    }\n",
              "\n",
              "    .dataframe thead th {\n",
              "        text-align: right;\n",
              "    }\n",
              "</style>\n",
              "<table border=\"1\" class=\"dataframe\">\n",
              "  <thead>\n",
              "    <tr style=\"text-align: right;\">\n",
              "      <th></th>\n",
              "      <th>train_id</th>\n",
              "      <th>name</th>\n",
              "      <th>item_condition_id</th>\n",
              "      <th>category_name</th>\n",
              "      <th>brand_name</th>\n",
              "      <th>price</th>\n",
              "      <th>shipping</th>\n",
              "      <th>item_description</th>\n",
              "    </tr>\n",
              "  </thead>\n",
              "  <tbody>\n",
              "    <tr>\n",
              "      <th>0</th>\n",
              "      <td>0</td>\n",
              "      <td>MLB Cincinnati Reds T Shirt Size XL</td>\n",
              "      <td>3</td>\n",
              "      <td>Men/Tops/T-shirts</td>\n",
              "      <td>NaN</td>\n",
              "      <td>10.00000</td>\n",
              "      <td>1</td>\n",
              "      <td>No description yet</td>\n",
              "    </tr>\n",
              "    <tr>\n",
              "      <th>1</th>\n",
              "      <td>1</td>\n",
              "      <td>Razer BlackWidow Chroma Keyboard</td>\n",
              "      <td>3</td>\n",
              "      <td>Electronics/Computers &amp; Tablets/Components &amp; P...</td>\n",
              "      <td>Razer</td>\n",
              "      <td>52.00000</td>\n",
              "      <td>0</td>\n",
              "      <td>This keyboard is in great condition and works ...</td>\n",
              "    </tr>\n",
              "    <tr>\n",
              "      <th>2</th>\n",
              "      <td>2</td>\n",
              "      <td>AVA-VIV Blouse</td>\n",
              "      <td>1</td>\n",
              "      <td>Women/Tops &amp; Blouses/Blouse</td>\n",
              "      <td>Target</td>\n",
              "      <td>10.00000</td>\n",
              "      <td>1</td>\n",
              "      <td>Adorable top with a hint of lace and a key hol...</td>\n",
              "    </tr>\n",
              "    <tr>\n",
              "      <th>3</th>\n",
              "      <td>3</td>\n",
              "      <td>Leather Horse Statues</td>\n",
              "      <td>1</td>\n",
              "      <td>Home/Home Décor/Home Décor Accents</td>\n",
              "      <td>NaN</td>\n",
              "      <td>35.00000</td>\n",
              "      <td>1</td>\n",
              "      <td>New with tags. Leather horses. Retail for [rm]...</td>\n",
              "    </tr>\n",
              "    <tr>\n",
              "      <th>4</th>\n",
              "      <td>4</td>\n",
              "      <td>24K GOLD plated rose</td>\n",
              "      <td>1</td>\n",
              "      <td>Women/Jewelry/Necklaces</td>\n",
              "      <td>NaN</td>\n",
              "      <td>44.00000</td>\n",
              "      <td>0</td>\n",
              "      <td>Complete with certificate of authenticity</td>\n",
              "    </tr>\n",
              "  </tbody>\n",
              "</table>\n",
              "</div>"
            ],
            "text/plain": [
              "   train_id  ...                                   item_description\n",
              "0         0  ...                                 No description yet\n",
              "1         1  ...  This keyboard is in great condition and works ...\n",
              "2         2  ...  Adorable top with a hint of lace and a key hol...\n",
              "3         3  ...  New with tags. Leather horses. Retail for [rm]...\n",
              "4         4  ...          Complete with certificate of authenticity\n",
              "\n",
              "[5 rows x 8 columns]"
            ]
          },
          "metadata": {
            "tags": []
          },
          "execution_count": 11
        }
      ]
    },
    {
      "cell_type": "code",
      "metadata": {
        "id": "Lv6Dz1pC3QBW",
        "colab_type": "code",
        "colab": {
          "base_uri": "https://localhost:8080/",
          "height": 272
        },
        "outputId": "2ca3da75-76bf-4d78-8571-480e0794f0d7"
      },
      "source": [
        "test.head()"
      ],
      "execution_count": 13,
      "outputs": [
        {
          "output_type": "execute_result",
          "data": {
            "text/html": [
              "<div>\n",
              "<style scoped>\n",
              "    .dataframe tbody tr th:only-of-type {\n",
              "        vertical-align: middle;\n",
              "    }\n",
              "\n",
              "    .dataframe tbody tr th {\n",
              "        vertical-align: top;\n",
              "    }\n",
              "\n",
              "    .dataframe thead th {\n",
              "        text-align: right;\n",
              "    }\n",
              "</style>\n",
              "<table border=\"1\" class=\"dataframe\">\n",
              "  <thead>\n",
              "    <tr style=\"text-align: right;\">\n",
              "      <th></th>\n",
              "      <th>test_id</th>\n",
              "      <th>name</th>\n",
              "      <th>item_condition_id</th>\n",
              "      <th>category_name</th>\n",
              "      <th>brand_name</th>\n",
              "      <th>shipping</th>\n",
              "      <th>item_description</th>\n",
              "    </tr>\n",
              "  </thead>\n",
              "  <tbody>\n",
              "    <tr>\n",
              "      <th>0</th>\n",
              "      <td>0</td>\n",
              "      <td>Breast cancer \"I fight like a girl\" ring</td>\n",
              "      <td>1</td>\n",
              "      <td>Women/Jewelry/Rings</td>\n",
              "      <td>NaN</td>\n",
              "      <td>1</td>\n",
              "      <td>Size 7</td>\n",
              "    </tr>\n",
              "    <tr>\n",
              "      <th>1</th>\n",
              "      <td>1</td>\n",
              "      <td>25 pcs NEW 7.5\"x12\" Kraft Bubble Mailers</td>\n",
              "      <td>1</td>\n",
              "      <td>Other/Office supplies/Shipping Supplies</td>\n",
              "      <td>NaN</td>\n",
              "      <td>1</td>\n",
              "      <td>25 pcs NEW 7.5\"x12\" Kraft Bubble Mailers Lined...</td>\n",
              "    </tr>\n",
              "    <tr>\n",
              "      <th>2</th>\n",
              "      <td>2</td>\n",
              "      <td>Coach bag</td>\n",
              "      <td>1</td>\n",
              "      <td>Vintage &amp; Collectibles/Bags and Purses/Handbag</td>\n",
              "      <td>Coach</td>\n",
              "      <td>1</td>\n",
              "      <td>Brand new coach bag. Bought for [rm] at a Coac...</td>\n",
              "    </tr>\n",
              "    <tr>\n",
              "      <th>3</th>\n",
              "      <td>3</td>\n",
              "      <td>Floral Kimono</td>\n",
              "      <td>2</td>\n",
              "      <td>Women/Sweaters/Cardigan</td>\n",
              "      <td>NaN</td>\n",
              "      <td>0</td>\n",
              "      <td>-floral kimono -never worn -lightweight and pe...</td>\n",
              "    </tr>\n",
              "    <tr>\n",
              "      <th>4</th>\n",
              "      <td>4</td>\n",
              "      <td>Life after Death</td>\n",
              "      <td>3</td>\n",
              "      <td>Other/Books/Religion &amp; Spirituality</td>\n",
              "      <td>NaN</td>\n",
              "      <td>1</td>\n",
              "      <td>Rediscovering life after the loss of a loved o...</td>\n",
              "    </tr>\n",
              "  </tbody>\n",
              "</table>\n",
              "</div>"
            ],
            "text/plain": [
              "   test_id  ...                                   item_description\n",
              "0        0  ...                                             Size 7\n",
              "1        1  ...  25 pcs NEW 7.5\"x12\" Kraft Bubble Mailers Lined...\n",
              "2        2  ...  Brand new coach bag. Bought for [rm] at a Coac...\n",
              "3        3  ...  -floral kimono -never worn -lightweight and pe...\n",
              "4        4  ...  Rediscovering life after the loss of a loved o...\n",
              "\n",
              "[5 rows x 7 columns]"
            ]
          },
          "metadata": {
            "tags": []
          },
          "execution_count": 13
        }
      ]
    },
    {
      "cell_type": "markdown",
      "metadata": {
        "id": "oy51QR998a9e",
        "colab_type": "text"
      },
      "source": [
        "train_id / test _id – ユーザー投稿のID\n",
        "\n",
        "name – 投稿のタイトル。タイトルに価格に関する情報がある場合（例：$20）はメルカリが事前に削除をして[rm]と置き換えている\n",
        "\n",
        "item_condition_id – ユーザーが指定した商品の状態\n",
        "\n",
        "category_name – 投稿カテゴリー\n",
        "\n",
        "brand_name – ブランドの名前\n",
        "\n",
        "price – 訓練データのみ。実際に売られた価格。米ドル表示。\n",
        "\n",
        "shipping – 送料のフラグ。「1」は販売者負担。「0」は購入者負担。\n",
        "\n",
        "item_description – ユーザーが投稿した商品説明の全文。価格情報がある場合は[rm]と置き換えられている。\n",
        "\n",
        "testのpriceを予測します。"
      ]
    },
    {
      "cell_type": "code",
      "metadata": {
        "id": "OhM28FG33vb8",
        "colab_type": "code",
        "colab": {
          "base_uri": "https://localhost:8080/",
          "height": 34
        },
        "outputId": "33984986-a697-4f96-c98c-8e5b07108a83"
      },
      "source": [
        "# trainとtestのサイズを確認\n",
        "train.shape, test.shape"
      ],
      "execution_count": 14,
      "outputs": [
        {
          "output_type": "execute_result",
          "data": {
            "text/plain": [
              "((1482535, 8), (693359, 7))"
            ]
          },
          "metadata": {
            "tags": []
          },
          "execution_count": 14
        }
      ]
    },
    {
      "cell_type": "code",
      "metadata": {
        "id": "xolPqWlv7frq",
        "colab_type": "code",
        "colab": {
          "base_uri": "https://localhost:8080/",
          "height": 385
        },
        "outputId": "ce384d58-c55d-4f32-f831-58e7a6e57098"
      },
      "source": [
        "def display_all(df):\n",
        "  with pd.option_context(\"display.max_rows\", 1000):\n",
        "    with pd.option_context(\"display.max_columns\", 1000):\n",
        "      display(df)\n",
        "# trainの基本統計量を表示\n",
        "display_all(train.describe(include='all').transpose())\n"
      ],
      "execution_count": 16,
      "outputs": [
        {
          "output_type": "display_data",
          "data": {
            "text/html": [
              "<div>\n",
              "<style scoped>\n",
              "    .dataframe tbody tr th:only-of-type {\n",
              "        vertical-align: middle;\n",
              "    }\n",
              "\n",
              "    .dataframe tbody tr th {\n",
              "        vertical-align: top;\n",
              "    }\n",
              "\n",
              "    .dataframe thead th {\n",
              "        text-align: right;\n",
              "    }\n",
              "</style>\n",
              "<table border=\"1\" class=\"dataframe\">\n",
              "  <thead>\n",
              "    <tr style=\"text-align: right;\">\n",
              "      <th></th>\n",
              "      <th>count</th>\n",
              "      <th>unique</th>\n",
              "      <th>top</th>\n",
              "      <th>freq</th>\n",
              "      <th>mean</th>\n",
              "      <th>std</th>\n",
              "      <th>min</th>\n",
              "      <th>25%</th>\n",
              "      <th>50%</th>\n",
              "      <th>75%</th>\n",
              "      <th>max</th>\n",
              "    </tr>\n",
              "  </thead>\n",
              "  <tbody>\n",
              "    <tr>\n",
              "      <th>train_id</th>\n",
              "      <td>1482535.00000</td>\n",
              "      <td>NaN</td>\n",
              "      <td>NaN</td>\n",
              "      <td>NaN</td>\n",
              "      <td>741267.00000</td>\n",
              "      <td>427971.13500</td>\n",
              "      <td>0.00000</td>\n",
              "      <td>370633.50000</td>\n",
              "      <td>741267.00000</td>\n",
              "      <td>1111900.50000</td>\n",
              "      <td>1482534.00000</td>\n",
              "    </tr>\n",
              "    <tr>\n",
              "      <th>name</th>\n",
              "      <td>1482535</td>\n",
              "      <td>1225273</td>\n",
              "      <td>Bundle</td>\n",
              "      <td>2232</td>\n",
              "      <td>NaN</td>\n",
              "      <td>NaN</td>\n",
              "      <td>NaN</td>\n",
              "      <td>NaN</td>\n",
              "      <td>NaN</td>\n",
              "      <td>NaN</td>\n",
              "      <td>NaN</td>\n",
              "    </tr>\n",
              "    <tr>\n",
              "      <th>item_condition_id</th>\n",
              "      <td>1482535.00000</td>\n",
              "      <td>NaN</td>\n",
              "      <td>NaN</td>\n",
              "      <td>NaN</td>\n",
              "      <td>1.90738</td>\n",
              "      <td>0.90316</td>\n",
              "      <td>1.00000</td>\n",
              "      <td>1.00000</td>\n",
              "      <td>2.00000</td>\n",
              "      <td>3.00000</td>\n",
              "      <td>5.00000</td>\n",
              "    </tr>\n",
              "    <tr>\n",
              "      <th>category_name</th>\n",
              "      <td>1476208</td>\n",
              "      <td>1287</td>\n",
              "      <td>Women/Athletic Apparel/Pants, Tights, Leggings</td>\n",
              "      <td>60177</td>\n",
              "      <td>NaN</td>\n",
              "      <td>NaN</td>\n",
              "      <td>NaN</td>\n",
              "      <td>NaN</td>\n",
              "      <td>NaN</td>\n",
              "      <td>NaN</td>\n",
              "      <td>NaN</td>\n",
              "    </tr>\n",
              "    <tr>\n",
              "      <th>brand_name</th>\n",
              "      <td>849853</td>\n",
              "      <td>4809</td>\n",
              "      <td>PINK</td>\n",
              "      <td>54088</td>\n",
              "      <td>NaN</td>\n",
              "      <td>NaN</td>\n",
              "      <td>NaN</td>\n",
              "      <td>NaN</td>\n",
              "      <td>NaN</td>\n",
              "      <td>NaN</td>\n",
              "      <td>NaN</td>\n",
              "    </tr>\n",
              "    <tr>\n",
              "      <th>price</th>\n",
              "      <td>1482535.00000</td>\n",
              "      <td>NaN</td>\n",
              "      <td>NaN</td>\n",
              "      <td>NaN</td>\n",
              "      <td>26.73752</td>\n",
              "      <td>38.58607</td>\n",
              "      <td>0.00000</td>\n",
              "      <td>10.00000</td>\n",
              "      <td>17.00000</td>\n",
              "      <td>29.00000</td>\n",
              "      <td>2009.00000</td>\n",
              "    </tr>\n",
              "    <tr>\n",
              "      <th>shipping</th>\n",
              "      <td>1482535.00000</td>\n",
              "      <td>NaN</td>\n",
              "      <td>NaN</td>\n",
              "      <td>NaN</td>\n",
              "      <td>0.44727</td>\n",
              "      <td>0.49721</td>\n",
              "      <td>0.00000</td>\n",
              "      <td>0.00000</td>\n",
              "      <td>0.00000</td>\n",
              "      <td>1.00000</td>\n",
              "      <td>1.00000</td>\n",
              "    </tr>\n",
              "    <tr>\n",
              "      <th>item_description</th>\n",
              "      <td>1482531</td>\n",
              "      <td>1281426</td>\n",
              "      <td>No description yet</td>\n",
              "      <td>82489</td>\n",
              "      <td>NaN</td>\n",
              "      <td>NaN</td>\n",
              "      <td>NaN</td>\n",
              "      <td>NaN</td>\n",
              "      <td>NaN</td>\n",
              "      <td>NaN</td>\n",
              "      <td>NaN</td>\n",
              "    </tr>\n",
              "  </tbody>\n",
              "</table>\n",
              "</div>"
            ],
            "text/plain": [
              "                          count   unique  \\\n",
              "train_id          1482535.00000      NaN   \n",
              "name                    1482535  1225273   \n",
              "item_condition_id 1482535.00000      NaN   \n",
              "category_name           1476208     1287   \n",
              "brand_name               849853     4809   \n",
              "price             1482535.00000      NaN   \n",
              "shipping          1482535.00000      NaN   \n",
              "item_description        1482531  1281426   \n",
              "\n",
              "                                                              top   freq  \\\n",
              "train_id                                                      NaN    NaN   \n",
              "name                                                       Bundle   2232   \n",
              "item_condition_id                                             NaN    NaN   \n",
              "category_name      Women/Athletic Apparel/Pants, Tights, Leggings  60177   \n",
              "brand_name                                                   PINK  54088   \n",
              "price                                                         NaN    NaN   \n",
              "shipping                                                      NaN    NaN   \n",
              "item_description                               No description yet  82489   \n",
              "\n",
              "                          mean          std     min          25%          50%  \\\n",
              "train_id          741267.00000 427971.13500 0.00000 370633.50000 741267.00000   \n",
              "name                       NaN          NaN     NaN          NaN          NaN   \n",
              "item_condition_id      1.90738      0.90316 1.00000      1.00000      2.00000   \n",
              "category_name              NaN          NaN     NaN          NaN          NaN   \n",
              "brand_name                 NaN          NaN     NaN          NaN          NaN   \n",
              "price                 26.73752     38.58607 0.00000     10.00000     17.00000   \n",
              "shipping               0.44727      0.49721 0.00000      0.00000      0.00000   \n",
              "item_description           NaN          NaN     NaN          NaN          NaN   \n",
              "\n",
              "                            75%           max  \n",
              "train_id          1111900.50000 1482534.00000  \n",
              "name                        NaN           NaN  \n",
              "item_condition_id       3.00000       5.00000  \n",
              "category_name               NaN           NaN  \n",
              "brand_name                  NaN           NaN  \n",
              "price                  29.00000    2009.00000  \n",
              "shipping                1.00000       1.00000  \n",
              "item_description            NaN           NaN  "
            ]
          },
          "metadata": {
            "tags": []
          }
        }
      ]
    },
    {
      "cell_type": "markdown",
      "metadata": {
        "id": "Q1LjI34D-1Ss",
        "colab_type": "text"
      },
      "source": [
        "item_description」の「Top」では「No description yet」と出ており商品説明がしっかり入っている訳ではない。価格（price）は平均（mean）が26.74ドルで標準偏差（std)が38.59ドル。最小値が0ドル、最大値は2009ドルとなっている。\n",
        "\n",
        "ーーーーーーーーーーーーーーーーーーーーーーーーーーーーーーーーーーーーーーーーーー"
      ]
    },
    {
      "cell_type": "code",
      "metadata": {
        "id": "t8cw4Zi1TSnp",
        "colab_type": "code",
        "colab": {
          "base_uri": "https://localhost:8080/",
          "height": 289
        },
        "outputId": "fefe9538-721a-44d0-ef58-81fe8ce76a77"
      },
      "source": [
        "# trainのカテゴリ名、商品説明、投稿タイトル、ブランド名のデータタイプを「category」へ変換する\n",
        "train.category_name = train.category_name.astype('category')\n",
        "train.item_description = train.item_description.astype('category')\n",
        "train.name = train.name.astype('category')\n",
        "train.brand_name = train.brand_name.astype('category')\n",
        "# testのカテゴリ名、商品説明、投稿タイトル、ブランド名のデータタイプを「category」へ変換する\n",
        "test.category_name = test.category_name.astype('category')\n",
        "test.item_description = test.item_description.astype('category')\n",
        "test.name = test.name.astype('category')\n",
        "test.brand_name = test.brand_name.astype('category')\n",
        "# dtypesでデータ形式の確認\n",
        "train.dtypes,test.dtypes\n"
      ],
      "execution_count": 20,
      "outputs": [
        {
          "output_type": "execute_result",
          "data": {
            "text/plain": [
              "(train_id                int64\n",
              " name                 category\n",
              " item_condition_id        int8\n",
              " category_name        category\n",
              " brand_name           category\n",
              " price                 float64\n",
              " shipping                 int8\n",
              " item_description     category\n",
              " dtype: object, test_id                 int64\n",
              " name                 category\n",
              " item_condition_id        int8\n",
              " category_name        category\n",
              " brand_name           category\n",
              " shipping                 int8\n",
              " item_description     category\n",
              " dtype: object)"
            ]
          },
          "metadata": {
            "tags": []
          },
          "execution_count": 20
        }
      ]
    },
    {
      "cell_type": "markdown",
      "metadata": {
        "id": "t0pTajUVABmB",
        "colab_type": "text"
      },
      "source": [
        "データのユニーク値の確認"
      ]
    },
    {
      "cell_type": "code",
      "metadata": {
        "id": "2WF_W_6QUBtX",
        "colab_type": "code",
        "colab": {
          "base_uri": "https://localhost:8080/",
          "height": 170
        },
        "outputId": "88246183-1fb0-4248-a1e9-5b43cd179ec3"
      },
      "source": [
        "# trainの中のユニークな値を確認する\n",
        "train.apply(lambda x: x.nunique())\n"
      ],
      "execution_count": 22,
      "outputs": [
        {
          "output_type": "execute_result",
          "data": {
            "text/plain": [
              "train_id             1482535\n",
              "name                 1225273\n",
              "item_condition_id          5\n",
              "category_name           1287\n",
              "brand_name              4809\n",
              "price                    828\n",
              "shipping                   2\n",
              "item_description     1281426\n",
              "dtype: int64"
            ]
          },
          "metadata": {
            "tags": []
          },
          "execution_count": 22
        }
      ]
    },
    {
      "cell_type": "code",
      "metadata": {
        "id": "QoCMvEgwU8W0",
        "colab_type": "code",
        "colab": {
          "base_uri": "https://localhost:8080/",
          "height": 153
        },
        "outputId": "07700d53-5e41-4a24-d0be-d85d2b0a52f8"
      },
      "source": [
        "# testの中のユニークな値を確認する\n",
        "test.apply(lambda x: x.nunique())"
      ],
      "execution_count": 23,
      "outputs": [
        {
          "output_type": "execute_result",
          "data": {
            "text/plain": [
              "test_id              693359\n",
              "name                 601117\n",
              "item_condition_id         5\n",
              "category_name          1223\n",
              "brand_name             3900\n",
              "shipping                  2\n",
              "item_description     609555\n",
              "dtype: int64"
            ]
          },
          "metadata": {
            "tags": []
          },
          "execution_count": 23
        }
      ]
    },
    {
      "cell_type": "markdown",
      "metadata": {
        "id": "fiChtrXC_iAW",
        "colab_type": "text"
      },
      "source": [
        "カテゴリやブランド名の重複、投稿タイトル（name）の重複データが確認できる。商品説明には「No Description yet」（商品説明はまだない）があったので、重複が確認できる。\n",
        "\n",
        "ーーーーーーーーーーーーーーーーーーーーーーーーーーーーーーーーーーーーーー"
      ]
    },
    {
      "cell_type": "markdown",
      "metadata": {
        "id": "Z4ZFkQPLB3nK",
        "colab_type": "text"
      },
      "source": [
        "欠損データの確認"
      ]
    },
    {
      "cell_type": "code",
      "metadata": {
        "id": "SQ4oc7viVcGx",
        "colab_type": "code",
        "colab": {
          "base_uri": "https://localhost:8080/",
          "height": 306
        },
        "outputId": "bd5b91e8-f98f-4e80-f917-cff6d2501f13"
      },
      "source": [
        "# trainの欠損データの個数と%を確認\n",
        "train.isnull().sum(),train.isnull().sum()/train.shape[0]"
      ],
      "execution_count": 24,
      "outputs": [
        {
          "output_type": "execute_result",
          "data": {
            "text/plain": [
              "(train_id                  0\n",
              " name                      0\n",
              " item_condition_id         0\n",
              " category_name          6327\n",
              " brand_name           632682\n",
              " price                     0\n",
              " shipping                  0\n",
              " item_description          4\n",
              " dtype: int64, train_id            0.00000\n",
              " name                0.00000\n",
              " item_condition_id   0.00000\n",
              " category_name       0.00427\n",
              " brand_name          0.42676\n",
              " price               0.00000\n",
              " shipping            0.00000\n",
              " item_description    0.00000\n",
              " dtype: float64)"
            ]
          },
          "metadata": {
            "tags": []
          },
          "execution_count": 24
        }
      ]
    },
    {
      "cell_type": "code",
      "metadata": {
        "id": "c7RFo39RVh15",
        "colab_type": "code",
        "colab": {
          "base_uri": "https://localhost:8080/",
          "height": 272
        },
        "outputId": "737934d8-b5df-48ea-fd07-0a396d7423cf"
      },
      "source": [
        "# testの欠損データの個数と%を確認\n",
        "test.isnull().sum(),test.isnull().sum()/test.shape[0]"
      ],
      "execution_count": 25,
      "outputs": [
        {
          "output_type": "execute_result",
          "data": {
            "text/plain": [
              "(test_id                   0\n",
              " name                      0\n",
              " item_condition_id         0\n",
              " category_name          3058\n",
              " brand_name           295525\n",
              " shipping                  0\n",
              " item_description          0\n",
              " dtype: int64, test_id             0.00000\n",
              " name                0.00000\n",
              " item_condition_id   0.00000\n",
              " category_name       0.00441\n",
              " brand_name          0.42622\n",
              " shipping            0.00000\n",
              " item_description    0.00000\n",
              " dtype: float64)"
            ]
          },
          "metadata": {
            "tags": []
          },
          "execution_count": 25
        }
      ]
    },
    {
      "cell_type": "markdown",
      "metadata": {
        "id": "KRTarvC8CB2v",
        "colab_type": "text"
      },
      "source": [
        "カテゴリ名（category_name）とブランド名（brand_name）は欠損数が大きい。特にブランド名の欠損度合いはかなり大きい。\n",
        "\n",
        "ーーーーーーーーーーーーーーーーーーーーーーーーーーーー"
      ]
    },
    {
      "cell_type": "markdown",
      "metadata": {
        "id": "USZnDzxMCflQ",
        "colab_type": "text"
      },
      "source": [
        "ランダムフォレストのモデルを作成するためのデータの事前処理"
      ]
    },
    {
      "cell_type": "markdown",
      "metadata": {
        "id": "RAstdnDuDTZ0",
        "colab_type": "text"
      },
      "source": [
        "trainとtestのIDのカラム名を変更し、データ連結後でもどちらのデータに属しているかわかるようにフラグをつける"
      ]
    },
    {
      "cell_type": "code",
      "metadata": {
        "id": "80dWEpoxVmv2",
        "colab_type": "code",
        "colab": {
          "base_uri": "https://localhost:8080/",
          "height": 204
        },
        "outputId": "9acfe0f6-f4be-43e6-a9ad-e735a3510a26"
      },
      "source": [
        "# trainとtestのidカラム名を変更する\n",
        "train = train.rename(columns = {'train_id':'id'})\n",
        "test = test.rename(columns = {'test_id':'id'})\n",
        "# 両方のセットへ「is_train」のカラムを追加\n",
        "# 1 = trainのデータ、0 = testデータ\n",
        "train['is_train'] = 1\n",
        "test['is_train'] = 0\n",
        "# trainのprice(価格）以外のデータをtestと連結\n",
        "train_test_combine = pd.concat([train.drop(['price'], axis=1),test],axis=0)\n",
        "# データの中身の表示\n",
        "train_test_combine.head()"
      ],
      "execution_count": 26,
      "outputs": [
        {
          "output_type": "execute_result",
          "data": {
            "text/html": [
              "<div>\n",
              "<style scoped>\n",
              "    .dataframe tbody tr th:only-of-type {\n",
              "        vertical-align: middle;\n",
              "    }\n",
              "\n",
              "    .dataframe tbody tr th {\n",
              "        vertical-align: top;\n",
              "    }\n",
              "\n",
              "    .dataframe thead th {\n",
              "        text-align: right;\n",
              "    }\n",
              "</style>\n",
              "<table border=\"1\" class=\"dataframe\">\n",
              "  <thead>\n",
              "    <tr style=\"text-align: right;\">\n",
              "      <th></th>\n",
              "      <th>id</th>\n",
              "      <th>name</th>\n",
              "      <th>item_condition_id</th>\n",
              "      <th>category_name</th>\n",
              "      <th>brand_name</th>\n",
              "      <th>shipping</th>\n",
              "      <th>item_description</th>\n",
              "      <th>is_train</th>\n",
              "    </tr>\n",
              "  </thead>\n",
              "  <tbody>\n",
              "    <tr>\n",
              "      <th>0</th>\n",
              "      <td>0</td>\n",
              "      <td>MLB Cincinnati Reds T Shirt Size XL</td>\n",
              "      <td>3</td>\n",
              "      <td>Men/Tops/T-shirts</td>\n",
              "      <td>NaN</td>\n",
              "      <td>1</td>\n",
              "      <td>No description yet</td>\n",
              "      <td>1</td>\n",
              "    </tr>\n",
              "    <tr>\n",
              "      <th>1</th>\n",
              "      <td>1</td>\n",
              "      <td>Razer BlackWidow Chroma Keyboard</td>\n",
              "      <td>3</td>\n",
              "      <td>Electronics/Computers &amp; Tablets/Components &amp; P...</td>\n",
              "      <td>Razer</td>\n",
              "      <td>0</td>\n",
              "      <td>This keyboard is in great condition and works ...</td>\n",
              "      <td>1</td>\n",
              "    </tr>\n",
              "    <tr>\n",
              "      <th>2</th>\n",
              "      <td>2</td>\n",
              "      <td>AVA-VIV Blouse</td>\n",
              "      <td>1</td>\n",
              "      <td>Women/Tops &amp; Blouses/Blouse</td>\n",
              "      <td>Target</td>\n",
              "      <td>1</td>\n",
              "      <td>Adorable top with a hint of lace and a key hol...</td>\n",
              "      <td>1</td>\n",
              "    </tr>\n",
              "    <tr>\n",
              "      <th>3</th>\n",
              "      <td>3</td>\n",
              "      <td>Leather Horse Statues</td>\n",
              "      <td>1</td>\n",
              "      <td>Home/Home Décor/Home Décor Accents</td>\n",
              "      <td>NaN</td>\n",
              "      <td>1</td>\n",
              "      <td>New with tags. Leather horses. Retail for [rm]...</td>\n",
              "      <td>1</td>\n",
              "    </tr>\n",
              "    <tr>\n",
              "      <th>4</th>\n",
              "      <td>4</td>\n",
              "      <td>24K GOLD plated rose</td>\n",
              "      <td>1</td>\n",
              "      <td>Women/Jewelry/Necklaces</td>\n",
              "      <td>NaN</td>\n",
              "      <td>0</td>\n",
              "      <td>Complete with certificate of authenticity</td>\n",
              "      <td>1</td>\n",
              "    </tr>\n",
              "  </tbody>\n",
              "</table>\n",
              "</div>"
            ],
            "text/plain": [
              "   id  ... is_train\n",
              "0   0  ...        1\n",
              "1   1  ...        1\n",
              "2   2  ...        1\n",
              "3   3  ...        1\n",
              "4   4  ...        1\n",
              "\n",
              "[5 rows x 8 columns]"
            ]
          },
          "metadata": {
            "tags": []
          },
          "execution_count": 26
        }
      ]
    },
    {
      "cell_type": "code",
      "metadata": {
        "id": "wu95AMPxaHZR",
        "colab_type": "code",
        "colab": {
          "base_uri": "https://localhost:8080/",
          "height": 34
        },
        "outputId": "e58cdf9d-9de7-43b9-ecd0-886df30f1742"
      },
      "source": [
        "#shapeの確認\n",
        "train_test_combine.shape"
      ],
      "execution_count": 27,
      "outputs": [
        {
          "output_type": "execute_result",
          "data": {
            "text/plain": [
              "(2175894, 8)"
            ]
          },
          "metadata": {
            "tags": []
          },
          "execution_count": 27
        }
      ]
    },
    {
      "cell_type": "markdown",
      "metadata": {
        "id": "PFgX2PzYD1NQ",
        "colab_type": "text"
      },
      "source": [
        "「(2175894, 8)」が訓練データ1,482,535個とテストデータ693,359個の合計になっていることが確認できる\n",
        "\n",
        "ーーーーーーーーーーーーーーーーーーーーーーーー"
      ]
    },
    {
      "cell_type": "markdown",
      "metadata": {
        "id": "CaZ-4LdLEwea",
        "colab_type": "text"
      },
      "source": [
        "連結させたデータ（train_test_combine）のデータ形式を変更"
      ]
    },
    {
      "cell_type": "code",
      "metadata": {
        "id": "VYpDA0nbaQag",
        "colab_type": "code",
        "colab": {
          "base_uri": "https://localhost:8080/",
          "height": 204
        },
        "outputId": "83902832-d483-47a0-dd4b-164e089ef70a"
      },
      "source": [
        "# train_test_combineの文字列のデータタイプを「category」へ変換\n",
        "train_test_combine.category_name = train_test_combine.category_name.astype('category')\n",
        "train_test_combine.item_description = train_test_combine.item_description.astype('category')\n",
        "train_test_combine.name = train_test_combine.name.astype('category')\n",
        "train_test_combine.brand_name = train_test_combine.brand_name.astype('category')\n",
        "# combinedDataの文字列を「.cat.codes」で数値へ変換する\n",
        "train_test_combine.name = train_test_combine.name.cat.codes\n",
        "train_test_combine.category_name = train_test_combine.category_name.cat.codes\n",
        "train_test_combine.brand_name = train_test_combine.brand_name.cat.codes\n",
        "train_test_combine.item_description = train_test_combine.item_description.cat.codes\n",
        "# データの中身とデータ形式の確認\n",
        "train_test_combine.head()"
      ],
      "execution_count": 29,
      "outputs": [
        {
          "output_type": "execute_result",
          "data": {
            "text/html": [
              "<div>\n",
              "<style scoped>\n",
              "    .dataframe tbody tr th:only-of-type {\n",
              "        vertical-align: middle;\n",
              "    }\n",
              "\n",
              "    .dataframe tbody tr th {\n",
              "        vertical-align: top;\n",
              "    }\n",
              "\n",
              "    .dataframe thead th {\n",
              "        text-align: right;\n",
              "    }\n",
              "</style>\n",
              "<table border=\"1\" class=\"dataframe\">\n",
              "  <thead>\n",
              "    <tr style=\"text-align: right;\">\n",
              "      <th></th>\n",
              "      <th>id</th>\n",
              "      <th>name</th>\n",
              "      <th>item_condition_id</th>\n",
              "      <th>category_name</th>\n",
              "      <th>brand_name</th>\n",
              "      <th>shipping</th>\n",
              "      <th>item_description</th>\n",
              "      <th>is_train</th>\n",
              "    </tr>\n",
              "  </thead>\n",
              "  <tbody>\n",
              "    <tr>\n",
              "      <th>0</th>\n",
              "      <td>0</td>\n",
              "      <td>916335</td>\n",
              "      <td>3</td>\n",
              "      <td>830</td>\n",
              "      <td>0</td>\n",
              "      <td>1</td>\n",
              "      <td>1172054</td>\n",
              "      <td>1</td>\n",
              "    </tr>\n",
              "    <tr>\n",
              "      <th>1</th>\n",
              "      <td>1</td>\n",
              "      <td>1292428</td>\n",
              "      <td>3</td>\n",
              "      <td>87</td>\n",
              "      <td>3890</td>\n",
              "      <td>0</td>\n",
              "      <td>1585540</td>\n",
              "      <td>1</td>\n",
              "    </tr>\n",
              "    <tr>\n",
              "      <th>2</th>\n",
              "      <td>2</td>\n",
              "      <td>131013</td>\n",
              "      <td>1</td>\n",
              "      <td>1278</td>\n",
              "      <td>4589</td>\n",
              "      <td>1</td>\n",
              "      <td>167134</td>\n",
              "      <td>1</td>\n",
              "    </tr>\n",
              "    <tr>\n",
              "      <th>3</th>\n",
              "      <td>3</td>\n",
              "      <td>802671</td>\n",
              "      <td>1</td>\n",
              "      <td>504</td>\n",
              "      <td>0</td>\n",
              "      <td>1</td>\n",
              "      <td>1136644</td>\n",
              "      <td>1</td>\n",
              "    </tr>\n",
              "    <tr>\n",
              "      <th>4</th>\n",
              "      <td>4</td>\n",
              "      <td>65051</td>\n",
              "      <td>1</td>\n",
              "      <td>1205</td>\n",
              "      <td>0</td>\n",
              "      <td>0</td>\n",
              "      <td>531910</td>\n",
              "      <td>1</td>\n",
              "    </tr>\n",
              "  </tbody>\n",
              "</table>\n",
              "</div>"
            ],
            "text/plain": [
              "   id     name  item_condition_id  ...  shipping  item_description  is_train\n",
              "0   0   916335                  3  ...         1           1172054         1\n",
              "1   1  1292428                  3  ...         0           1585540         1\n",
              "2   2   131013                  1  ...         1            167134         1\n",
              "3   3   802671                  1  ...         1           1136644         1\n",
              "4   4    65051                  1  ...         0            531910         1\n",
              "\n",
              "[5 rows x 8 columns]"
            ]
          },
          "metadata": {
            "tags": []
          },
          "execution_count": 29
        }
      ]
    },
    {
      "cell_type": "code",
      "metadata": {
        "id": "gw9XMe73ai7c",
        "colab_type": "code",
        "colab": {
          "base_uri": "https://localhost:8080/",
          "height": 170
        },
        "outputId": "c1132568-cd51-489e-b8ae-f28dd0c2120e"
      },
      "source": [
        "train_test_combine.dtypes"
      ],
      "execution_count": 30,
      "outputs": [
        {
          "output_type": "execute_result",
          "data": {
            "text/plain": [
              "id                   int64\n",
              "name                 int32\n",
              "item_condition_id     int8\n",
              "category_name        int16\n",
              "brand_name           int16\n",
              "shipping              int8\n",
              "item_description     int32\n",
              "is_train             int64\n",
              "dtype: object"
            ]
          },
          "metadata": {
            "tags": []
          },
          "execution_count": 30
        }
      ]
    },
    {
      "cell_type": "markdown",
      "metadata": {
        "id": "3-XMKaR2FCQ2",
        "colab_type": "text"
      },
      "source": [
        "数値に変換したので、またtestとtrainに分ける"
      ]
    },
    {
      "cell_type": "code",
      "metadata": {
        "id": "k9pM4D6vbLUX",
        "colab_type": "code",
        "colab": {
          "base_uri": "https://localhost:8080/",
          "height": 34
        },
        "outputId": "1a9620a7-3496-45b5-9094-5f666b30b4a6"
      },
      "source": [
        "# 「is_train」のフラグでcombineからtestとtrainへ切り分ける\n",
        "df_test = train_test_combine.loc[train_test_combine['is_train'] == 0]\n",
        "df_train = train_test_combine.loc[train_test_combine['is_train'] == 1]\n",
        "# 「is_train」をtrainとtestのデータフレームから落とす\n",
        "df_test = df_test.drop(['is_train'], axis=1)\n",
        "df_train = df_train.drop(['is_train'], axis=1)\n",
        "# サイズの確認をしておきましょう\n",
        "df_test.shape, df_train.shape"
      ],
      "execution_count": 32,
      "outputs": [
        {
          "output_type": "execute_result",
          "data": {
            "text/plain": [
              "((693359, 7), (1482535, 7))"
            ]
          },
          "metadata": {
            "tags": []
          },
          "execution_count": 32
        }
      ]
    },
    {
      "cell_type": "markdown",
      "metadata": {
        "id": "UlKeKzl7Fuaa",
        "colab_type": "text"
      },
      "source": [
        "df_train」（訓練データ）へ「train」の価格（price）を戻して、log関数で処理をする"
      ]
    },
    {
      "cell_type": "code",
      "metadata": {
        "id": "1MlgIk6YbaiR",
        "colab_type": "code",
        "colab": {
          "base_uri": "https://localhost:8080/",
          "height": 204
        },
        "outputId": "3039b0dc-8adc-4ba3-f33c-5f7c4c537382"
      },
      "source": [
        "# df_trainへprice（価格）を戻す\n",
        "df_train['price'] = train.price\n",
        "# price（価格）をlog関数で処理\n",
        "df_train['price'] = df_train['price'].apply(lambda x: np.log(x) if x>0 else x)\n",
        "# df_trainを表示して確認\n",
        "df_train.head()"
      ],
      "execution_count": 38,
      "outputs": [
        {
          "output_type": "execute_result",
          "data": {
            "text/html": [
              "<div>\n",
              "<style scoped>\n",
              "    .dataframe tbody tr th:only-of-type {\n",
              "        vertical-align: middle;\n",
              "    }\n",
              "\n",
              "    .dataframe tbody tr th {\n",
              "        vertical-align: top;\n",
              "    }\n",
              "\n",
              "    .dataframe thead th {\n",
              "        text-align: right;\n",
              "    }\n",
              "</style>\n",
              "<table border=\"1\" class=\"dataframe\">\n",
              "  <thead>\n",
              "    <tr style=\"text-align: right;\">\n",
              "      <th></th>\n",
              "      <th>id</th>\n",
              "      <th>name</th>\n",
              "      <th>item_condition_id</th>\n",
              "      <th>category_name</th>\n",
              "      <th>brand_name</th>\n",
              "      <th>shipping</th>\n",
              "      <th>item_description</th>\n",
              "      <th>price</th>\n",
              "    </tr>\n",
              "  </thead>\n",
              "  <tbody>\n",
              "    <tr>\n",
              "      <th>0</th>\n",
              "      <td>0</td>\n",
              "      <td>916335</td>\n",
              "      <td>3</td>\n",
              "      <td>830</td>\n",
              "      <td>0</td>\n",
              "      <td>1</td>\n",
              "      <td>1172054</td>\n",
              "      <td>2.30259</td>\n",
              "    </tr>\n",
              "    <tr>\n",
              "      <th>1</th>\n",
              "      <td>1</td>\n",
              "      <td>1292428</td>\n",
              "      <td>3</td>\n",
              "      <td>87</td>\n",
              "      <td>3890</td>\n",
              "      <td>0</td>\n",
              "      <td>1585540</td>\n",
              "      <td>3.95124</td>\n",
              "    </tr>\n",
              "    <tr>\n",
              "      <th>2</th>\n",
              "      <td>2</td>\n",
              "      <td>131013</td>\n",
              "      <td>1</td>\n",
              "      <td>1278</td>\n",
              "      <td>4589</td>\n",
              "      <td>1</td>\n",
              "      <td>167134</td>\n",
              "      <td>2.30259</td>\n",
              "    </tr>\n",
              "    <tr>\n",
              "      <th>3</th>\n",
              "      <td>3</td>\n",
              "      <td>802671</td>\n",
              "      <td>1</td>\n",
              "      <td>504</td>\n",
              "      <td>0</td>\n",
              "      <td>1</td>\n",
              "      <td>1136644</td>\n",
              "      <td>3.55535</td>\n",
              "    </tr>\n",
              "    <tr>\n",
              "      <th>4</th>\n",
              "      <td>4</td>\n",
              "      <td>65051</td>\n",
              "      <td>1</td>\n",
              "      <td>1205</td>\n",
              "      <td>0</td>\n",
              "      <td>0</td>\n",
              "      <td>531910</td>\n",
              "      <td>3.78419</td>\n",
              "    </tr>\n",
              "  </tbody>\n",
              "</table>\n",
              "</div>"
            ],
            "text/plain": [
              "   id     name  item_condition_id  ...  shipping  item_description   price\n",
              "0   0   916335                  3  ...         1           1172054 2.30259\n",
              "1   1  1292428                  3  ...         0           1585540 3.95124\n",
              "2   2   131013                  1  ...         1            167134 2.30259\n",
              "3   3   802671                  1  ...         1           1136644 3.55535\n",
              "4   4    65051                  1  ...         0            531910 3.78419\n",
              "\n",
              "[5 rows x 8 columns]"
            ]
          },
          "metadata": {
            "tags": []
          },
          "execution_count": 38
        }
      ]
    },
    {
      "cell_type": "markdown",
      "metadata": {
        "id": "JNcLP6aqGMtd",
        "colab_type": "text"
      },
      "source": [
        "ランダムフォレストのモデル作成"
      ]
    },
    {
      "cell_type": "code",
      "metadata": {
        "id": "Ucrl6pw8bvDK",
        "colab_type": "code",
        "colab": {
          "base_uri": "https://localhost:8080/",
          "height": 34
        },
        "outputId": "25e12473-5d55-4330-9bf4-bcd58510f2ab"
      },
      "source": [
        "# x ＝ price以外の全ての値、y = price（ターゲット）で切り分ける\n",
        "x_train, y_train = df_train.drop(['price'], axis=1), df_train.price\n",
        "# モデルの作成\n",
        "m = RandomForestRegressor(n_jobs=-1, min_samples_leaf=5, n_estimators=200)\n",
        "m.fit(x_train, y_train)\n",
        "# スコアを表示\n",
        "m.score(x_train, y_train)"
      ],
      "execution_count": 40,
      "outputs": [
        {
          "output_type": "execute_result",
          "data": {
            "text/plain": [
              "0.7400987967569919"
            ]
          },
          "metadata": {
            "tags": []
          },
          "execution_count": 40
        }
      ]
    },
    {
      "cell_type": "markdown",
      "metadata": {
        "id": "CGZWfIQxHcQ5",
        "colab_type": "text"
      },
      "source": [
        "スコアは0.7400987967569919となった\n",
        "\n",
        "モデルが作れたので、先に処理をした「df_test」（テスト用データ）を入れて、実際の予測値を出す"
      ]
    },
    {
      "cell_type": "code",
      "metadata": {
        "id": "68ak_nFpz6U8",
        "colab_type": "code",
        "colab": {
          "base_uri": "https://localhost:8080/",
          "height": 204
        },
        "outputId": "90c5ec65-cbc0-4786-ef5a-38b7f3d9ef6f"
      },
      "source": [
        "# 作成したランダムフォレストのモデル「m」に「df_test」を入れて予測する\n",
        "preds = m.predict(df_test)\n",
        "# 予測値 predsをnp.exp()で処理\n",
        "np.exp(preds)\n",
        "# Numpy配列からpandasシリーズへ変換\n",
        "preds = pd.Series(np.exp(preds))\n",
        "# テストデータのIDと予測値を連結\n",
        "submit = pd.concat([df_test.id, preds], axis=1)\n",
        "# カラム名の名前をつける\n",
        "submit.columns = ['test_id', 'price']\n",
        "submit.head()"
      ],
      "execution_count": 36,
      "outputs": [
        {
          "output_type": "execute_result",
          "data": {
            "text/html": [
              "<div>\n",
              "<style scoped>\n",
              "    .dataframe tbody tr th:only-of-type {\n",
              "        vertical-align: middle;\n",
              "    }\n",
              "\n",
              "    .dataframe tbody tr th {\n",
              "        vertical-align: top;\n",
              "    }\n",
              "\n",
              "    .dataframe thead th {\n",
              "        text-align: right;\n",
              "    }\n",
              "</style>\n",
              "<table border=\"1\" class=\"dataframe\">\n",
              "  <thead>\n",
              "    <tr style=\"text-align: right;\">\n",
              "      <th></th>\n",
              "      <th>test_id</th>\n",
              "      <th>price</th>\n",
              "    </tr>\n",
              "  </thead>\n",
              "  <tbody>\n",
              "    <tr>\n",
              "      <th>0</th>\n",
              "      <td>0</td>\n",
              "      <td>12.88961</td>\n",
              "    </tr>\n",
              "    <tr>\n",
              "      <th>1</th>\n",
              "      <td>1</td>\n",
              "      <td>7.75365</td>\n",
              "    </tr>\n",
              "    <tr>\n",
              "      <th>2</th>\n",
              "      <td>2</td>\n",
              "      <td>19.99445</td>\n",
              "    </tr>\n",
              "    <tr>\n",
              "      <th>3</th>\n",
              "      <td>3</td>\n",
              "      <td>14.85366</td>\n",
              "    </tr>\n",
              "    <tr>\n",
              "      <th>4</th>\n",
              "      <td>4</td>\n",
              "      <td>8.02702</td>\n",
              "    </tr>\n",
              "  </tbody>\n",
              "</table>\n",
              "</div>"
            ],
            "text/plain": [
              "   test_id    price\n",
              "0        0 12.88961\n",
              "1        1  7.75365\n",
              "2        2 19.99445\n",
              "3        3 14.85366\n",
              "4        4  8.02702"
            ]
          },
          "metadata": {
            "tags": []
          },
          "execution_count": 36
        }
      ]
    },
    {
      "cell_type": "markdown",
      "metadata": {
        "id": "BVQEbgA6H8QU",
        "colab_type": "text"
      },
      "source": [
        "結論\n",
        "調べながらやってみたが正直理解できていない。スコアはもう少し上げていけると思う"
      ]
    }
  ]
}